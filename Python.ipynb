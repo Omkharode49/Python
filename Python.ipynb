{
 "cells": [
  {
   "cell_type": "markdown",
   "id": "6efd5e1f",
   "metadata": {},
   "source": [
    "## Variables"
   ]
  },
  {
   "cell_type": "code",
   "execution_count": 7,
   "id": "fbf9ae7d",
   "metadata": {},
   "outputs": [],
   "source": [
    "name= \"Om\"\n",
    "age= 20\n",
    "city= \"Nagpur\""
   ]
  },
  {
   "cell_type": "code",
   "execution_count": 8,
   "id": "6ee3cb93",
   "metadata": {},
   "outputs": [
    {
     "name": "stdout",
     "output_type": "stream",
     "text": [
      "Om\n",
      "20\n",
      "Nagpur\n"
     ]
    }
   ],
   "source": [
    "print(name)\n",
    "print(age)\n",
    "print(city)"
   ]
  },
  {
   "cell_type": "code",
   "execution_count": 10,
   "id": "73233ed2",
   "metadata": {},
   "outputs": [
    {
     "name": "stdout",
     "output_type": "stream",
     "text": [
      "What is your age?20\n",
      "20\n"
     ]
    }
   ],
   "source": [
    "age= input(\"What is your age?\")\n",
    "print(age)"
   ]
  },
  {
   "cell_type": "code",
   "execution_count": 11,
   "id": "7c2a8162",
   "metadata": {},
   "outputs": [
    {
     "name": "stdout",
     "output_type": "stream",
     "text": [
      "5\n",
      "10\n",
      "15\n"
     ]
    }
   ],
   "source": [
    "first = int(input())\n",
    "second = int(input())\n",
    "print (first+second)"
   ]
  },
  {
   "cell_type": "code",
   "execution_count": 16,
   "id": "b13e2c6c",
   "metadata": {},
   "outputs": [
    {
     "name": "stdout",
     "output_type": "stream",
     "text": [
      "2\n",
      "3\n",
      "5\n"
     ]
    }
   ],
   "source": [
    "first = int(input())\n",
    "second = int(input())\n",
    "print (first+second)"
   ]
  },
  {
   "cell_type": "code",
   "execution_count": 18,
   "id": "684265a4",
   "metadata": {},
   "outputs": [
    {
     "name": "stdout",
     "output_type": "stream",
     "text": [
      "tony stark\n",
      "TONY STARK\n"
     ]
    }
   ],
   "source": [
    "name = \"Tony Stark\"\n",
    "print(name.lower())\n",
    "print(name.upper())"
   ]
  },
  {
   "cell_type": "code",
   "execution_count": 18,
   "id": "95469a2f",
   "metadata": {},
   "outputs": [
    {
     "name": "stdout",
     "output_type": "stream",
     "text": [
      "tony stark\n",
      "TONY STARK\n"
     ]
    }
   ],
   "source": [
    "name = \"Tony Stark\"\n",
    "print(name.lower())\n",
    "print(name.upper())"
   ]
  },
  {
   "cell_type": "markdown",
   "id": "10a95cf3",
   "metadata": {},
   "source": [
    "# Elements in a list are seperated by comma and enclosed in square brackets"
   ]
  },
  {
   "cell_type": "markdown",
   "id": "509ebbc5",
   "metadata": {},
   "source": [
    "### Elements in a list are seperated by comma and enclosed in square brackets"
   ]
  },
  {
   "cell_type": "markdown",
   "id": "52ca14ac",
   "metadata": {},
   "source": [
    "### List are hetrogenous -> Multiple data types"
   ]
  },
  {
   "cell_type": "markdown",
   "id": "89cfa341",
   "metadata": {},
   "source": [
    "### Lists can have duplicates"
   ]
  },
  {
   "cell_type": "markdown",
   "id": "3ed0d59c",
   "metadata": {},
   "source": [
    "### Lists are mutable -> makes changes"
   ]
  },
  {
   "cell_type": "markdown",
   "id": "6f332bef",
   "metadata": {},
   "source": [
    "# Tuples"
   ]
  },
  {
   "cell_type": "markdown",
   "id": "27260e69",
   "metadata": {},
   "source": [
    "### 1) Container Object\n",
    "### 2) Heterogeneous -> allow multiple data types\n",
    "### 3) Can have duplicates\n",
    "### 4) Immutable -> cannot make changes\n",
    "### 5) Elements are seperated by commas, enclosed in paranthesis or without any brackets"
   ]
  },
  {
   "cell_type": "markdown",
   "id": "fcb1c2a1",
   "metadata": {},
   "source": [
    "# Dictionary"
   ]
  },
  {
   "cell_type": "markdown",
   "id": "63bd2092",
   "metadata": {},
   "source": [
    "### 1) Key-value pair\n",
    "### 2) {}\n",
    "### 3) Indexing Squared brackets\n",
    "### 4) Mutable"
   ]
  },
  {
   "cell_type": "code",
   "execution_count": 20,
   "id": "9ff0d5a1",
   "metadata": {},
   "outputs": [
    {
     "ename": "AttributeError",
     "evalue": "'dict' object has no attribute 'key'",
     "output_type": "error",
     "traceback": [
      "\u001b[1;31m---------------------------------------------------------------------------\u001b[0m",
      "\u001b[1;31mAttributeError\u001b[0m                            Traceback (most recent call last)",
      "Cell \u001b[1;32mIn[20], line 2\u001b[0m\n\u001b[0;32m      1\u001b[0m dict_1\u001b[38;5;241m=\u001b[39m {\u001b[38;5;124m'\u001b[39m\u001b[38;5;124mName\u001b[39m\u001b[38;5;124m'\u001b[39m: \u001b[38;5;124m\"\u001b[39m\u001b[38;5;124mOm\u001b[39m\u001b[38;5;124m\"\u001b[39m, \u001b[38;5;124m'\u001b[39m\u001b[38;5;124mClass\u001b[39m\u001b[38;5;124m'\u001b[39m: \u001b[38;5;124m\"\u001b[39m\u001b[38;5;124m11\u001b[39m\u001b[38;5;124m\"\u001b[39m, \u001b[38;5;124m'\u001b[39m\u001b[38;5;124mSection\u001b[39m\u001b[38;5;124m'\u001b[39m: \u001b[38;5;124m\"\u001b[39m\u001b[38;5;124mC\u001b[39m\u001b[38;5;124m\"\u001b[39m}\n\u001b[1;32m----> 2\u001b[0m \u001b[38;5;28mprint\u001b[39m (dict_1\u001b[38;5;241m.\u001b[39mkey())\n",
      "\u001b[1;31mAttributeError\u001b[0m: 'dict' object has no attribute 'key'"
     ]
    }
   ],
   "source": [
    "dict_1= {'Name': \"Om\", 'Class': \"11\", 'Section': \"C\"}\n",
    "print (dict_1.key())"
   ]
  },
  {
   "cell_type": "code",
   "execution_count": 21,
   "id": "175b982d",
   "metadata": {},
   "outputs": [],
   "source": [
    "dict_1= {'Name': \"Om\", 'Class': \"11\", 'Section': \"C\"}\n"
   ]
  },
  {
   "cell_type": "code",
   "execution_count": 22,
   "id": "dde90459",
   "metadata": {},
   "outputs": [
    {
     "data": {
      "text/plain": [
       "{'Name': 'Om', 'Class': '11', 'Section': 'C'}"
      ]
     },
     "execution_count": 22,
     "metadata": {},
     "output_type": "execute_result"
    }
   ],
   "source": [
    "dict_1"
   ]
  },
  {
   "cell_type": "code",
   "execution_count": 23,
   "id": "df31e1dd",
   "metadata": {},
   "outputs": [
    {
     "name": "stdout",
     "output_type": "stream",
     "text": [
      "dict_keys(['Name', 'Class', 'Section'])\n"
     ]
    }
   ],
   "source": [
    "dict_1= {'Name': \"Om\", 'Class': \"11\", 'Section': \"C\"}\n",
    "print (dict_1.keys())"
   ]
  },
  {
   "cell_type": "code",
   "execution_count": 24,
   "id": "63e86eea",
   "metadata": {},
   "outputs": [
    {
     "data": {
      "text/plain": [
       "'11'"
      ]
     },
     "execution_count": 24,
     "metadata": {},
     "output_type": "execute_result"
    }
   ],
   "source": [
    "dict_1 ['Class']"
   ]
  },
  {
   "cell_type": "code",
   "execution_count": 26,
   "id": "7aee308f",
   "metadata": {},
   "outputs": [
    {
     "ename": "KeyError",
     "evalue": "'C'",
     "output_type": "error",
     "traceback": [
      "\u001b[1;31m---------------------------------------------------------------------------\u001b[0m",
      "\u001b[1;31mKeyError\u001b[0m                                  Traceback (most recent call last)",
      "Cell \u001b[1;32mIn[26], line 1\u001b[0m\n\u001b[1;32m----> 1\u001b[0m dict_1 [\u001b[38;5;124m\"\u001b[39m\u001b[38;5;124mC\u001b[39m\u001b[38;5;124m\"\u001b[39m]\n",
      "\u001b[1;31mKeyError\u001b[0m: 'C'"
     ]
    }
   ],
   "source": [
    "dict_1 [\"C\"]"
   ]
  },
  {
   "cell_type": "code",
   "execution_count": 27,
   "id": "d3df83ac",
   "metadata": {},
   "outputs": [],
   "source": [
    "dict_1 ['Name'] = \"Mohan\""
   ]
  },
  {
   "cell_type": "code",
   "execution_count": 28,
   "id": "06104f12",
   "metadata": {},
   "outputs": [
    {
     "data": {
      "text/plain": [
       "'Mohan'"
      ]
     },
     "execution_count": 28,
     "metadata": {},
     "output_type": "execute_result"
    }
   ],
   "source": [
    "dict_1 ['Name']0"
   ]
  },
  {
   "cell_type": "code",
   "execution_count": 29,
   "id": "936bbe63",
   "metadata": {},
   "outputs": [
    {
     "data": {
      "text/plain": [
       "dict_values(['Mohan', '11', 'C'])"
      ]
     },
     "execution_count": 29,
     "metadata": {},
     "output_type": "execute_result"
    }
   ],
   "source": [
    "dict_1.values()"
   ]
  },
  {
   "cell_type": "code",
   "execution_count": 1,
   "id": "17998c58",
   "metadata": {},
   "outputs": [],
   "source": [
    "sample_set= {1,2,3,8,2.5,95.2,32.5, \"hi\", \"dear\", \"no\", \"apple\", -1, -8.54}"
   ]
  },
  {
   "cell_type": "code",
   "execution_count": 2,
   "id": "3e5eeb46",
   "metadata": {},
   "outputs": [
    {
     "data": {
      "text/plain": [
       "{-1, -8.54, 1, 2, 2.5, 3, 32.5, 8, 95.2, 'apple', 'dear', 'hi', 'no'}"
      ]
     },
     "execution_count": 2,
     "metadata": {},
     "output_type": "execute_result"
    }
   ],
   "source": [
    "sample_set"
   ]
  },
  {
   "cell_type": "code",
   "execution_count": 5,
   "id": "871bd5e6",
   "metadata": {},
   "outputs": [
    {
     "name": "stdout",
     "output_type": "stream",
     "text": [
      "15\n",
      "Not Eligible\n"
     ]
    }
   ],
   "source": [
    "Age = int(input())\n",
    "\n",
    "if Age >= 18:\n",
    "    print (\"Eligible\")\n",
    "else:\n",
    "    print (\"Not Eligible\")"
   ]
  },
  {
   "cell_type": "code",
   "execution_count": null,
   "id": "16b6c4ef",
   "metadata": {},
   "outputs": [],
   "source": []
  },
  {
   "cell_type": "code",
   "execution_count": null,
   "id": "d2c381be",
   "metadata": {},
   "outputs": [],
   "source": []
  },
  {
   "cell_type": "markdown",
   "id": "1631bf99",
   "metadata": {},
   "source": [
    "### Calculator"
   ]
  },
  {
   "cell_type": "code",
   "execution_count": 6,
   "id": "76ba1d06",
   "metadata": {},
   "outputs": [
    {
     "name": "stdout",
     "output_type": "stream",
     "text": [
      "5\n",
      "10\n",
      "15\n",
      "-5\n",
      "50\n",
      "0.5\n",
      "9765625\n",
      "0\n",
      "5\n"
     ]
    }
   ],
   "source": [
    "a= int(input())\n",
    "b= int(input())\n",
    "\n",
    "print(a+b)\n",
    "print(a-b)\n",
    "print(a*b)\n",
    "print(a/b)\n",
    "print(a**b)\n",
    "print(a//b)\n",
    "print(a%b)\n"
   ]
  },
  {
   "cell_type": "code",
   "execution_count": 16,
   "id": "2f83f864",
   "metadata": {},
   "outputs": [
    {
     "name": "stdout",
     "output_type": "stream",
     "text": [
      "Enter a number:20\n",
      "Enter operator (+,-,*,/):/\n",
      "Enter a number:4\n",
      "5.0\n"
     ]
    }
   ],
   "source": [
    "A = int(input(\"Enter a number:\"))\n",
    "operation= input(\"Enter operator (+,-,*,/):\")\n",
    "B = int(input(\"Enter a number:\"))\n",
    "\n",
    "if operation == \"+\":\n",
    "    print (A+B)\n",
    "elif operation == \"-\":\n",
    "    print (A-B)\n",
    "elif operation == \"*\":\n",
    "    print (A*B)\n",
    "elif operation == \"/\":\n",
    "    print (A/B)\n",
    "    \n",
    "else:\n",
    "    print (\"Invalid operation\")\n",
    "    \n",
    "    \n",
    "    \n",
    "    \n",
    "    "
   ]
  },
  {
   "cell_type": "code",
   "execution_count": null,
   "id": "7fb00803",
   "metadata": {},
   "outputs": [],
   "source": []
  },
  {
   "cell_type": "code",
   "execution_count": null,
   "id": "5a9f88a8",
   "metadata": {},
   "outputs": [],
   "source": []
  }
 ],
 "metadata": {
  "kernelspec": {
   "display_name": "Python 3 (ipykernel)",
   "language": "python",
   "name": "python3"
  },
  "language_info": {
   "codemirror_mode": {
    "name": "ipython",
    "version": 3
   },
   "file_extension": ".py",
   "mimetype": "text/x-python",
   "name": "python",
   "nbconvert_exporter": "python",
   "pygments_lexer": "ipython3",
   "version": "3.11.5"
  }
 },
 "nbformat": 4,
 "nbformat_minor": 5
}
